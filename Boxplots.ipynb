{
 "cells": [
  {
   "cell_type": "code",
   "execution_count": 4,
   "metadata": {
    "collapsed": false
   },
   "outputs": [],
   "source": [
    "import pandas as pd\n",
    "import matplotlib.pyplot as plt\n",
    "plt.style.use('ggplot')\n",
    "import seaborn as sns"
   ]
  },
  {
   "cell_type": "code",
   "execution_count": 3,
   "metadata": {
    "collapsed": false
   },
   "outputs": [],
   "source": [
    "nosadf = pd.read_table('P2P511new/2.phy.nosa.xml.log', delimiter='\\t', skiprows=257)"
   ]
  },
  {
   "cell_type": "code",
   "execution_count": 7,
   "metadata": {
    "collapsed": false
   },
   "outputs": [],
   "source": [
    "sadf = pd.read_table('P2P511new/2.phy.sa.xml.log', delimiter='\\t', skiprows=257)"
   ]
  },
  {
   "cell_type": "code",
   "execution_count": 8,
   "metadata": {
    "collapsed": false
   },
   "outputs": [],
   "source": [
    "intburn = int(round(len(nosadf)*.3))"
   ]
  },
  {
   "cell_type": "code",
   "execution_count": 9,
   "metadata": {
    "collapsed": false
   },
   "outputs": [],
   "source": [
    "sample_nosadf = nosadf.loc[intburn:, :]\n",
    "sample_sadf = sadf.loc[intburn:, :]"
   ]
  },
  {
   "cell_type": "code",
   "execution_count": 10,
   "metadata": {
    "collapsed": false
   },
   "outputs": [
    {
     "name": "stderr",
     "output_type": "stream",
     "text": [
      "/usr/local/lib/python3.5/site-packages/ipykernel/__main__.py:1: SettingWithCopyWarning: \n",
      "A value is trying to be set on a copy of a slice from a DataFrame\n",
      "\n",
      "See the caveats in the documentation: http://pandas.pydata.org/pandas-docs/stable/indexing.html#indexing-view-versus-copy\n",
      "  if __name__ == '__main__':\n",
      "/usr/local/lib/python3.5/site-packages/ipykernel/__main__.py:2: SettingWithCopyWarning: \n",
      "A value is trying to be set on a copy of a slice from a DataFrame\n",
      "\n",
      "See the caveats in the documentation: http://pandas.pydata.org/pandas-docs/stable/indexing.html#indexing-view-versus-copy\n",
      "  from ipykernel import kernelapp as app\n"
     ]
    }
   ],
   "source": [
    "sample_nosadf.sort_values('likelihood', ascending=False, inplace=True)\n",
    "sample_sadf.sort_values('likelihood', ascending=False, inplace=True)\n"
   ]
  },
  {
   "cell_type": "code",
   "execution_count": 11,
   "metadata": {
    "collapsed": false
   },
   "outputs": [],
   "source": [
    "hpd_val = int(round(len(sample_nosadf)*.95))\n",
    "\n",
    "hpd_nosadf = pd.DataFrame(sample_nosadf[:hpd_val])\n",
    "hpd_sadf = pd.DataFrame(sample_sadf[:hpd_val])\n"
   ]
  },
  {
   "cell_type": "code",
   "execution_count": 12,
   "metadata": {
    "collapsed": false
   },
   "outputs": [
    {
     "name": "stderr",
     "output_type": "stream",
     "text": [
      "/usr/local/lib/python3.5/site-packages/ipykernel/__main__.py:3: SettingWithCopyWarning: \n",
      "A value is trying to be set on a copy of a slice from a DataFrame.\n",
      "Try using .loc[row_indexer,col_indexer] = value instead\n",
      "\n",
      "See the caveats in the documentation: http://pandas.pydata.org/pandas-docs/stable/indexing.html#indexing-view-versus-copy\n",
      "  app.launch_new_instance()\n",
      "/usr/local/lib/python3.5/site-packages/ipykernel/__main__.py:4: SettingWithCopyWarning: \n",
      "A value is trying to be set on a copy of a slice from a DataFrame.\n",
      "Try using .loc[row_indexer,col_indexer] = value instead\n",
      "\n",
      "See the caveats in the documentation: http://pandas.pydata.org/pandas-docs/stable/indexing.html#indexing-view-versus-copy\n"
     ]
    }
   ],
   "source": [
    "slim_nosa = hpd_nosadf[['mrcatime(one)', 'mrcatime(two)', 'mrcatime(three)']]\n",
    "slim_sa = hpd_sadf[['mrcatime(one)', 'mrcatime(two)', 'mrcatime(three)']]\n",
    "slim_sa['ident'] = 'sa'\n",
    "slim_nosa['ident'] = 'nosa'\n",
    "mega_df = slim_sa.append([slim_nosa])"
   ]
  },
  {
   "cell_type": "code",
   "execution_count": 21,
   "metadata": {
    "collapsed": true
   },
   "outputs": [],
   "source": [
    "groupobj = mega_df.groupby('ident')"
   ]
  },
  {
   "cell_type": "code",
   "execution_count": 22,
   "metadata": {
    "collapsed": false
   },
   "outputs": [
    {
     "data": {
      "text/plain": [
       "OrderedDict([('nosa',\n",
       "              {'boxes': [<matplotlib.lines.Line2D at 0x10d30ff60>,\n",
       "                <matplotlib.lines.Line2D at 0x10d31a358>,\n",
       "                <matplotlib.lines.Line2D at 0x10d3ea7f0>],\n",
       "               'caps': [<matplotlib.lines.Line2D at 0x10b2326a0>,\n",
       "                <matplotlib.lines.Line2D at 0x10b237390>,\n",
       "                <matplotlib.lines.Line2D at 0x10d325e48>,\n",
       "                <matplotlib.lines.Line2D at 0x10d32bd68>,\n",
       "                <matplotlib.lines.Line2D at 0x10d3f5860>,\n",
       "                <matplotlib.lines.Line2D at 0x10d3f5fd0>],\n",
       "               'fliers': [<matplotlib.lines.Line2D at 0x10b14c518>,\n",
       "                <matplotlib.lines.Line2D at 0x10d3e4f98>,\n",
       "                <matplotlib.lines.Line2D at 0x10d3ffa20>],\n",
       "               'means': [<matplotlib.lines.Line2D at 0x10b249898>,\n",
       "                <matplotlib.lines.Line2D at 0x10d3e47b8>,\n",
       "                <matplotlib.lines.Line2D at 0x10d3fab00>],\n",
       "               'medians': [<matplotlib.lines.Line2D at 0x10b1546a0>,\n",
       "                <matplotlib.lines.Line2D at 0x10d32bf28>,\n",
       "                <matplotlib.lines.Line2D at 0x10d3fa2b0>],\n",
       "               'whiskers': [<matplotlib.lines.Line2D at 0x10b24dc18>,\n",
       "                <matplotlib.lines.Line2D at 0x10b240908>,\n",
       "                <matplotlib.lines.Line2D at 0x10d31ad68>,\n",
       "                <matplotlib.lines.Line2D at 0x10d325c88>,\n",
       "                <matplotlib.lines.Line2D at 0x10d3eafd0>,\n",
       "                <matplotlib.lines.Line2D at 0x10d3eefd0>]}),\n",
       "             ('sa',\n",
       "              {'boxes': [<matplotlib.lines.Line2D at 0x10b161978>,\n",
       "                <matplotlib.lines.Line2D at 0x10d415ba8>,\n",
       "                <matplotlib.lines.Line2D at 0x10d42cef0>],\n",
       "               'caps': [<matplotlib.lines.Line2D at 0x10d40aba8>,\n",
       "                <matplotlib.lines.Line2D at 0x10d40ad68>,\n",
       "                <matplotlib.lines.Line2D at 0x10d420c18>,\n",
       "                <matplotlib.lines.Line2D at 0x10d420dd8>,\n",
       "                <matplotlib.lines.Line2D at 0x10d438f60>,\n",
       "                <matplotlib.lines.Line2D at 0x10d43c7f0>],\n",
       "               'fliers': [<matplotlib.lines.Line2D at 0x10d415a90>,\n",
       "                <matplotlib.lines.Line2D at 0x10d42cdd8>,\n",
       "                <matplotlib.lines.Line2D at 0x10d441a90>],\n",
       "               'means': [<matplotlib.lines.Line2D at 0x10d411b70>,\n",
       "                <matplotlib.lines.Line2D at 0x10d427eb8>,\n",
       "                <matplotlib.lines.Line2D at 0x10d441240>],\n",
       "               'medians': [<matplotlib.lines.Line2D at 0x10d405278>,\n",
       "                <matplotlib.lines.Line2D at 0x10d427668>,\n",
       "                <matplotlib.lines.Line2D at 0x10d43c9b0>],\n",
       "               'whiskers': [<matplotlib.lines.Line2D at 0x10d4057f0>,\n",
       "                <matplotlib.lines.Line2D at 0x10d405c88>,\n",
       "                <matplotlib.lines.Line2D at 0x10d41ab38>,\n",
       "                <matplotlib.lines.Line2D at 0x10d41acf8>,\n",
       "                <matplotlib.lines.Line2D at 0x10d431e80>,\n",
       "                <matplotlib.lines.Line2D at 0x10d431fd0>]})])"
      ]
     },
     "execution_count": 22,
     "metadata": {},
     "output_type": "execute_result"
    }
   ],
   "source": [
    "groupobj.boxplot(whis=\"range\", return_type='dict', showmeans=True, meanline=True, usermedians=['4','3','.75'])\n"
   ]
  },
  {
   "cell_type": "code",
   "execution_count": 32,
   "metadata": {
    "collapsed": false
   },
   "outputs": [
    {
     "data": {
      "text/plain": [
       "array([[<matplotlib.axes._subplots.AxesSubplot object at 0x10d56f908>,\n",
       "        <matplotlib.axes._subplots.AxesSubplot object at 0x10d8f6d68>],\n",
       "       [<matplotlib.axes._subplots.AxesSubplot object at 0x10d906d30>,\n",
       "        <matplotlib.axes._subplots.AxesSubplot object at 0x1048f3ef0>]], dtype=object)"
      ]
     },
     "execution_count": 32,
     "metadata": {},
     "output_type": "execute_result"
    }
   ],
   "source": [
    "mega_df.boxplot(by='ident')"
   ]
  },
  {
   "cell_type": "code",
   "execution_count": 33,
   "metadata": {
    "collapsed": false
   },
   "outputs": [
    {
     "data": {
      "image/png": "[encoded data removed]",
      "text/plain": [
       "<matplotlib.figure.Figure at 0x10af41748>"
      ]
     },
     "metadata": {},
     "output_type": "display_data"
    }
   ],
   "source": [
    "plt.show()"
   ]
  },
  {
   "cell_type": "code",
   "execution_count": 23,
   "metadata": {
    "collapsed": false
   },
   "outputs": [
    {
     "data": {
      "text/plain": [
       "<matplotlib.axes._subplots.AxesSubplot at 0x11536f320>"
      ]
     },
     "execution_count": 23,
     "metadata": {},
     "output_type": "execute_result"
    }
   ],
   "source": [
    "sns.boxplot(data=slim_nosa)\n",
    "sns.stripplot(data=slim_nosa,\n",
    "              size=4, jitter=True, edgecolor=\"gray\")"
   ]
  },
  {
   "cell_type": "code",
   "execution_count": 24,
   "metadata": {
    "collapsed": false
   },
   "outputs": [
    {
     "data": {
      "image/png": "[encoded data removed]",
      "text/plain": [
       "<matplotlib.figure.Figure at 0x115367208>"
      ]
     },
     "metadata": {},
     "output_type": "display_data"
    }
   ],
   "source": [
    "plt.show()\n"
   ]
  },
  {
   "cell_type": "code",
   "execution_count": null,
   "metadata": {
    "collapsed": true
   },
   "outputs": [],
   "source": []
  }
 ],
 "metadata": {
  "kernelspec": {
   "display_name": "Python 3",
   "language": "python",
   "name": "python3"
  },
  "language_info": {
   "codemirror_mode": {
    "name": "ipython",
    "version": 3
   },
   "file_extension": ".py",
   "mimetype": "text/x-python",
   "name": "python",
   "nbconvert_exporter": "python",
   "pygments_lexer": "ipython3",
   "version": "3.5.1"
  }
 },
 "nbformat": 4,
 "nbformat_minor": 1
}
