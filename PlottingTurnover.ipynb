{
 "cells": [
  {
   "cell_type": "code",
   "execution_count": 1,
   "metadata": {
    "collapsed": true
   },
   "outputs": [],
   "source": [
    "import pandas as pd\n",
    "import sys\n",
    "import matplotlib.pyplot as plt\n",
    "plt.style.use('ggplot')\n",
    "import numpy as np\n",
    "import os\n",
    "import glob"
   ]
  },
  {
   "cell_type": "code",
   "execution_count": 21,
   "metadata": {
    "collapsed": false
   },
   "outputs": [],
   "source": [
    "sa_flist = glob.glob('P*8new/sa.csv')\n",
    "sa_df = pd.read_csv(sa_flist[0], index_col=False, header=None)\n",
    "for file in sa_flist[1:]:\n",
    "    ndf = pd.read_csv(file, header=None, index_col=False)\n",
    "    sa_df = sa_df.append(ndf)\n"
   ]
  },
  {
   "cell_type": "code",
   "execution_count": 22,
   "metadata": {
    "collapsed": true
   },
   "outputs": [],
   "source": [
    "nosa_flist = glob.glob('P*8new/nosa.csv')\n",
    "nosa_df = pd.read_csv(nosa_flist[0], index_col=False, header=None)\n",
    "for file in nosa_flist[1:]:\n",
    "    ndf = pd.read_csv(file, header=None, index_col=False)\n",
    "    nosa_df = nosa_df.append(ndf)\n",
    "\n"
   ]
  },
  {
   "cell_type": "code",
   "execution_count": 23,
   "metadata": {
    "collapsed": false
   },
   "outputs": [],
   "source": [
    "\n",
    "sa_df.columns = ['added', 'Tru', 'Turnover']\n",
    "sa_df['ident'] = 'Sampled Ancestor Model'\n",
    "nosa_df.columns = ['added', 'Tru', 'Turnover']\n",
    "nosa_df['ident'] = 'Non Sampled Ancestor Model'\n"
   ]
  },
  {
   "cell_type": "code",
   "execution_count": 24,
   "metadata": {
    "collapsed": false
   },
   "outputs": [
    {
     "data": {
      "text/plain": [
       "(0, 1)"
      ]
     },
     "execution_count": 24,
     "metadata": {},
     "output_type": "execute_result"
    }
   ],
   "source": [
    "plt.plot(sa_df.Tru, sa_df.Turnover,'r.') # x vs y\n",
    "plt.plot(sa_df.Turnover,sa_df.Turnover,'r-')\t\n",
    "plt.plot(nosa_df.Tru,nosa_df.Turnover,'b.')\t\n",
    "plt.plot([0.0, 1.0], 'k-')\n",
    "plt.xlim(0,1)\n",
    "plt.ylim(0,1)\n",
    "#plt.savefig('plotMed.png')"
   ]
  },
  {
   "cell_type": "code",
   "execution_count": 25,
   "metadata": {
    "collapsed": false
   },
   "outputs": [
    {
     "data": {
      "image/png": "[encoded data removed]",
      "text/plain": [
       "<matplotlib.figure.Figure at 0x10b45cfd0>"
      ]
     },
     "metadata": {},
     "output_type": "display_data"
    }
   ],
   "source": [
    "plt.show()\n"
   ]
  },
  {
   "cell_type": "code",
   "execution_count": 20,
   "metadata": {
    "collapsed": true
   },
   "outputs": [],
   "source": [
    "plt.close()"
   ]
  },
  {
   "cell_type": "code",
   "execution_count": null,
   "metadata": {
    "collapsed": true
   },
   "outputs": [],
   "source": []
  }
 ],
 "metadata": {
  "kernelspec": {
   "display_name": "Python 3",
   "language": "python",
   "name": "python3"
  },
  "language_info": {
   "codemirror_mode": {
    "name": "ipython",
    "version": 3
   },
   "file_extension": ".py",
   "mimetype": "text/x-python",
   "name": "python",
   "nbconvert_exporter": "python",
   "pygments_lexer": "ipython3",
   "version": "3.5.1"
  }
 },
 "nbformat": 4,
 "nbformat_minor": 1
}
