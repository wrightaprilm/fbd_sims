{
 "cells": [
  {
   "cell_type": "markdown",
   "metadata": {},
   "source": [
    "# Brief Tutorial on iPython Notebooks\n",
    "+ What is an iPython Notebook?\n",
    "\n",
    "Briefly, an iPython notebook is a format for running and visualizing code. It takes advantage of your browser's ability to render attractive HTML documents in order to weave together words, code fragments and output.\n",
    "\n",
    "+ What is it good for?\n",
    "\n",
    "Teaching, since they allow for notes to be interspersed in the code. Visualizing and sharing notes.\n",
    "\n",
    "\n",
    "Which is what we're going to do today."
   ]
  },
  {
   "cell_type": "code",
   "execution_count": null,
   "metadata": {
    "collapsed": true
   },
   "outputs": [],
   "source": [
    "import dendropy\n",
    "from dendropy.calculate import treemeasure\n",
    "import pandas\n",
    "import sys\n",
    "import glob\n",
    "import numpy as np"
   ]
  },
  {
   "cell_type": "code",
   "execution_count": null,
   "metadata": {
    "collapsed": true
   },
   "outputs": [],
   "source": [
    "right_vecmin = []\n",
    "right_vecmax = []"
   ]
  },
  {
   "cell_type": "markdown",
   "metadata": {},
   "source": [
    "Above, I created a couple global variables. I thought I might need them."
   ]
  },
  {
   "cell_type": "code",
   "execution_count": null,
   "metadata": {
    "collapsed": true
   },
   "outputs": [],
   "source": [
    "def initializer():\n",
    "#Load Tree\n",
    "\ttree = dendropy.Tree.get(path='P3P511/7.SCL.tre', schema=\"nexus\", rooting=\"default-unrooted\")\n",
    "#Get Edges from tree\n",
    "\tedges = [edge.length for edge in tree.preorder_edge_iter()]\n",
    "\tedges[0] = 0\n",
    "#Start a pandas dataframe\n",
    "\tdf = pandas.DataFrame(pandas.Series(edges, edges),columns=['true'])\n",
    "#Use the correct edges as the header\n",
    "\treturn(df)"
   ]
  },
  {
   "cell_type": "markdown",
   "metadata": {},
   "source": [
    "Above, I read in a tree from standard input (the command line), extracted the branch lengths, and loaded them into a pandas dataframe"
   ]
  },
  {
   "cell_type": "code",
   "execution_count": null,
   "metadata": {
    "collapsed": false
   },
   "outputs": [],
   "source": [
    "initializer()"
   ]
  },
  {
   "cell_type": "code",
   "execution_count": null,
   "metadata": {
    "collapsed": false
   },
   "outputs": [],
   "source": [
    "def get_files():\n",
    "\tcontainer = [file for file in glob.glob('test/*.con')]\n",
    "\tfor file in container:\n",
    "\t\tprint(\"processing file %s\" % file)\t\n",
    "\t\ttree = dendropy.Tree.get(path=file, schema=\"nexus\", extract_comment_metadata=True, rooting=\"default-unrooted\")\n",
    "\t\tnode_hpd = [nd.annotations.findall(name='length_hpd95') for nd in tree.preorder_node_iter()]\n",
    "\t\tnode_med = [nd.annotations.findall(name='length_median') for nd in tree.preorder_node_iter()]\n",
    "\treturn(file, node_hpd, node_med)"
   ]
  },
  {
   "cell_type": "markdown",
   "metadata": {},
   "source": [
    "Above, what we do is use glob to find all the files with a certain extension. Then, we iterate over those files, reading them in with Dendropy and parsing any annotations on them. Finally, we return the filename and the annotations to use in the next function"
   ]
  },
  {
   "cell_type": "code",
   "execution_count": null,
   "metadata": {
    "collapsed": false
   },
   "outputs": [],
   "source": [
    "get_files()"
   ]
  },
  {
   "cell_type": "code",
   "execution_count": null,
   "metadata": {
    "collapsed": false
   },
   "outputs": [],
   "source": [
    "def make_df(node_hpd, df):\n",
    "\tkvs = [nd.values_as_dict() for nd in node_hpd]\n",
    "\tgnocchi = [kv.values() for kv in kvs]\n",
    "\tmax = [line[0][1] for line in gnocchi]\n",
    "\tmin = [line[0][0] for line in gnocchi]\n",
    "\tdf['min'] = pandas.Series(min, index=df.index)\n",
    "\tdf[['min']] = df[['min']].astype(float)\n",
    "\tdf['max'] = pandas.Series(max, index=df.index)\n",
    "\tdf[['max']] = df[['max']].astype(float)\n",
    "\tdf['boolcol'] = df['min'] < df['true']\n",
    "\tper_min = (np.sum(df[['boolcol']]))/len(df[['boolcol']])\n",
    "\tper_max = (np.sum(df[['boolcol']]))/len(df[['boolcol']])\n",
    "\tright_vecmin.append(per_min)\n",
    "\tright_vecmax.append(per_max)\n",
    "\treturn(df, right_vecmin, right_vecmax)"
   ]
  },
  {
   "cell_type": "markdown",
   "metadata": {},
   "source": [
    "This takes the values in node_hpd and breaks them apart into individual lists of values."
   ]
  },
  {
   "cell_type": "markdown",
   "metadata": {},
   "source": [
    "Then we crunch them into a pandas dataframe and create two column, which are boolean. "
   ]
  },
  {
   "cell_type": "code",
   "execution_count": null,
   "metadata": {
    "collapsed": false
   },
   "outputs": [],
   "source": [
    "def add_med(node_med, df):\t\n",
    "\tkvs = [nd.values_as_dict() for nd in node_med]\n",
    "\tgnocchi = [kv.values() for kv in kvs]\n",
    "\tmed = [float(line[0]) for line in gnocchi]\n",
    "\tdf['med'] = pandas.Series(med, index=df.index)\n",
    "\tdf['devcol'] = df['med'] - df['true']\n",
    "\treturn(df)"
   ]
  },
  {
   "cell_type": "code",
   "execution_count": null,
   "metadata": {
    "collapsed": true
   },
   "outputs": [],
   "source": [
    "def io_time(df, file):\n",
    "\tdf.to_csv(\"%s.csv\" % file)"
   ]
  },
  {
   "cell_type": "markdown",
   "metadata": {},
   "source": [
    "So there, all our functions are defined. Now we can call them all."
   ]
  },
  {
   "cell_type": "code",
   "execution_count": null,
   "metadata": {
    "collapsed": false
   },
   "outputs": [],
   "source": [
    "if __name__ == \"__main__\":\n",
    "\tdf = initializer()\n",
    "\tfile, node_hpd, node_med = get_files()\n",
    "\tdf, right_vecmin, right_vecmax = make_df(node_hpd, df)\n",
    "\texport_data =add_med(node_med, df)\n",
    "\tio_time(export_data, file)"
   ]
  },
  {
   "cell_type": "code",
   "execution_count": 21,
   "metadata": {
    "collapsed": false
   },
   "outputs": [
    {
     "name": "stdout",
     "output_type": "stream",
     "text": [
      "              true           min        max boolcol       med    devcol\n",
      "0.000000  0.000000  0.000000e+00   0.000000   False  0.000000  0.000000\n",
      "0.270591  0.270591  8.275043e+00  10.564130   False  9.285030  9.014439\n",
      "6.771450  6.771450  8.275043e+00  10.564130   False  9.285030  2.513580\n",
      "0.542096  0.542096  8.380176e+00  12.342090   False  9.978896  9.436800\n",
      "6.229350  6.229350  1.476971e-01   2.238679    True  1.082332 -5.147018\n",
      "1.261880  1.261880  7.626370e+00   8.818500   False  8.208650  6.946770\n",
      "4.131570  4.131570  1.115550e+00   2.694770    True  1.928980 -2.202590\n",
      "0.835902  0.835902  7.712150e-02   1.346300    True  0.687868 -0.148034\n",
      "0.835902  0.835902  2.645940e+00   3.761650   False  3.179720  2.343818\n",
      "1.134480  1.134480  6.014360e-02   0.586637    True  0.256691 -0.877789\n",
      "1.660510  1.660510  4.056030e-06   0.146360    True  0.056308 -1.604201\n",
      "2.172480  2.172480  5.823260e-08   0.113640    True  0.030346 -2.142134\n",
      "0.914163  0.914163  1.820560e+00   2.209940   False  1.994710  1.080547\n",
      "1.174250  1.174250  1.820560e+00   2.209940   False  1.994710  0.820460\n",
      "0.084065  0.084065  3.089870e-01   0.620291   False  0.462212  0.378147\n",
      "0.084065  0.084065  6.187570e-01   1.118420   False  0.857955  0.773890\n",
      "0.556213  0.556213  6.253570e-01   0.893800   False  0.693985  0.137772\n",
      "0.702102  0.702102  2.329310e-01   0.538257    True  0.348197 -0.353905\n",
      "0.702102  0.702102  2.675560e-01   0.439152    True  0.348089 -0.354013\n",
      "1.937670  1.937670  2.675560e-01   0.439152    True  0.348089 -1.589581\n",
      "1.426700  1.426700  4.710620e-01   0.798059    True  0.624902 -0.801798\n",
      "0.468630  0.468630  1.700330e-01   0.383688    True  0.269986 -0.198644\n",
      "0.468630  0.468630  5.731300e-01   0.786189   False  0.673261  0.204631\n",
      "0.207914  0.207914  2.051330e-01   0.398441    True  0.296500  0.088586\n",
      "1.285630  1.285630  3.276770e-01   0.440905    True  0.373220 -0.912410\n",
      "0.401785  0.401785  2.000160e-01   0.334179    True  0.260578 -0.141207\n",
      "0.401785  0.401785  7.294710e-02   0.158966    True  0.113126 -0.288659\n",
      "0.068466  0.068466  7.294710e-02   0.158966   False  0.113126  0.044660\n",
      "0.331876  0.331876  7.938980e-01   1.061310   False  0.921826  0.589950\n",
      "0.535222  0.535222  6.705240e-03   0.045488    True  0.023350 -0.511871\n",
      "0.732929  0.732929  6.705240e-03   0.045488    True  0.023350 -0.709579\n",
      "0.018919  0.018919  1.373240e+00   1.756460   False  1.556340  1.537421\n",
      "0.018919  0.018919  4.332400e-01   0.672845   False  0.540937  0.522018\n",
      "0.197887  0.197887  4.332400e-01   0.672845   False  0.540937  0.343050\n",
      "0.553961  0.553961  1.524720e+00   2.197150   False  1.778870  1.224909\n",
      "0.226286  0.226286  4.686330e-01   0.697136   False  0.572615  0.346329\n",
      "0.242540  0.242540  4.686330e-01   0.697136   False  0.572615  0.330075\n",
      "0.085135  0.085135  2.274140e+00   3.306800   False  2.767120  2.681985\n",
      "0.085135  0.085135  2.452980e+00   3.201270   False  2.790020  2.704885\n",
      "0.327675  0.327675  7.120170e-01   1.448280   False  1.073520  0.745845\n",
      "0.661714  0.661714  5.785610e-01   1.224200    True  0.849328  0.187614\n",
      "0.353124  0.353124  7.087370e-01   0.988312   False  0.844435  0.491311\n",
      "0.272232  0.272232  7.087370e-01   0.988312   False  0.844435  0.572203\n",
      "0.272232  0.272232  1.215100e+00   1.976600   False  1.533920  1.261688\n",
      "0.625356  0.625356  1.044160e-01   0.225307    True  0.159551 -0.465805\n",
      "0.019005  0.019005  1.044160e-01   0.225307   False  0.159551  0.140546\n",
      "1.599940  1.599940  4.592550e+00   6.084690   False  5.308310  3.708370\n",
      "1.599940  1.599940  8.359060e-01   1.139500    True  0.962923 -0.637017\n",
      "7.042040  7.042040  8.359060e-01   1.139500    True  0.962923 -6.079117\n"
     ]
    }
   ],
   "source": [
    "print(df)"
   ]
  },
  {
   "cell_type": "code",
   "execution_count": null,
   "metadata": {
    "collapsed": true
   },
   "outputs": [],
   "source": []
  }
 ],
 "metadata": {
  "kernelspec": {
   "display_name": "Python 2",
   "language": "python",
   "name": "python2"
  },
  "language_info": {
   "codemirror_mode": {
    "name": "ipython",
    "version": 2
   },
   "file_extension": ".py",
   "mimetype": "text/x-python",
   "name": "python",
   "nbconvert_exporter": "python",
   "pygments_lexer": "ipython2",
   "version": "2.7.10"
  }
 },
 "nbformat": 4,
 "nbformat_minor": 0
}
